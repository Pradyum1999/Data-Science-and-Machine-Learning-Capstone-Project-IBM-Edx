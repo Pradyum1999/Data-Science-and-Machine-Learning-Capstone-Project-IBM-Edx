{
 "cells": [
  {
   "cell_type": "markdown",
   "metadata": {},
   "source": [
    "# QUESTION 1: "
   ]
  },
  {
   "cell_type": "markdown",
   "metadata": {},
   "source": [
    "### '''Question 1: Which type of complaint should the Department of Housing Preservation and Development of New York City focus on first?'''\n",
    "\n",
    "'''Notes on Problem 1: In the first question, we should look the 311 data set. 311 service is for New York citizens where citizens can report non-emergency requests from the city. Important note: The actual dataset is much bigger than this one and can be downloaded from the link I've provided in README file, however I selected the columns that I am going to use. I didn't choose the all recommended columns because of size issues. The dataset is in data.csv file and transferred here as df, using pandas. For answering question 1, we should find the column that contains complaint type information and find the complaint type that has occured most.'''"
   ]
  },
  {
   "cell_type": "code",
   "execution_count": 2,
   "metadata": {},
   "outputs": [
    {
     "data": {
      "text/html": [
       "<div>\n",
       "<style scoped>\n",
       "    .dataframe tbody tr th:only-of-type {\n",
       "        vertical-align: middle;\n",
       "    }\n",
       "\n",
       "    .dataframe tbody tr th {\n",
       "        vertical-align: top;\n",
       "    }\n",
       "\n",
       "    .dataframe thead th {\n",
       "        text-align: right;\n",
       "    }\n",
       "</style>\n",
       "<table border=\"1\" class=\"dataframe\">\n",
       "  <thead>\n",
       "    <tr style=\"text-align: right;\">\n",
       "      <th></th>\n",
       "      <th>created_date</th>\n",
       "      <th>unique_key</th>\n",
       "      <th>complaint_type</th>\n",
       "      <th>incident_zip</th>\n",
       "      <th>incident_address</th>\n",
       "      <th>street_name</th>\n",
       "      <th>address_type</th>\n",
       "      <th>city</th>\n",
       "      <th>resolution_description</th>\n",
       "      <th>borough</th>\n",
       "      <th>latitude</th>\n",
       "      <th>longitude</th>\n",
       "      <th>closed_date</th>\n",
       "      <th>location_type</th>\n",
       "      <th>status</th>\n",
       "    </tr>\n",
       "  </thead>\n",
       "  <tbody>\n",
       "    <tr>\n",
       "      <th>0</th>\n",
       "      <td>2020-08-23T09:51:03.000</td>\n",
       "      <td>47338119</td>\n",
       "      <td>HEAT/HOT WATER</td>\n",
       "      <td>11234.0</td>\n",
       "      <td>6614 VETERANS AVENUE</td>\n",
       "      <td>VETERANS AVENUE</td>\n",
       "      <td>ADDRESS</td>\n",
       "      <td>BROOKLYN</td>\n",
       "      <td>The following complaint conditions are still o...</td>\n",
       "      <td>BROOKLYN</td>\n",
       "      <td>40.619789</td>\n",
       "      <td>-73.913164</td>\n",
       "      <td>NaN</td>\n",
       "      <td>RESIDENTIAL BUILDING</td>\n",
       "      <td>Open</td>\n",
       "    </tr>\n",
       "    <tr>\n",
       "      <th>1</th>\n",
       "      <td>2020-08-23T14:52:28.000</td>\n",
       "      <td>47339485</td>\n",
       "      <td>PLUMBING</td>\n",
       "      <td>11694.0</td>\n",
       "      <td>193 BEACH  112 STREET</td>\n",
       "      <td>BEACH  112 STREET</td>\n",
       "      <td>ADDRESS</td>\n",
       "      <td>Rockaway Park</td>\n",
       "      <td>The following complaint conditions are still o...</td>\n",
       "      <td>QUEENS</td>\n",
       "      <td>40.580445</td>\n",
       "      <td>-73.833540</td>\n",
       "      <td>NaN</td>\n",
       "      <td>RESIDENTIAL BUILDING</td>\n",
       "      <td>Open</td>\n",
       "    </tr>\n",
       "    <tr>\n",
       "      <th>2</th>\n",
       "      <td>2020-08-23T07:21:11.000</td>\n",
       "      <td>47338136</td>\n",
       "      <td>UNSANITARY CONDITION</td>\n",
       "      <td>10011.0</td>\n",
       "      <td>103 WEST   14 STREET</td>\n",
       "      <td>WEST   14 STREET</td>\n",
       "      <td>ADDRESS</td>\n",
       "      <td>NEW YORK</td>\n",
       "      <td>The following complaint conditions are still o...</td>\n",
       "      <td>MANHATTAN</td>\n",
       "      <td>40.737564</td>\n",
       "      <td>-73.997301</td>\n",
       "      <td>NaN</td>\n",
       "      <td>RESIDENTIAL BUILDING</td>\n",
       "      <td>Open</td>\n",
       "    </tr>\n",
       "    <tr>\n",
       "      <th>3</th>\n",
       "      <td>2020-08-23T01:40:51.000</td>\n",
       "      <td>47343253</td>\n",
       "      <td>UNSANITARY CONDITION</td>\n",
       "      <td>11355.0</td>\n",
       "      <td>137-27 HOLLY AVENUE</td>\n",
       "      <td>HOLLY AVENUE</td>\n",
       "      <td>ADDRESS</td>\n",
       "      <td>Flushing</td>\n",
       "      <td>The following complaint conditions are still o...</td>\n",
       "      <td>QUEENS</td>\n",
       "      <td>40.749927</td>\n",
       "      <td>-73.820885</td>\n",
       "      <td>NaN</td>\n",
       "      <td>RESIDENTIAL BUILDING</td>\n",
       "      <td>Open</td>\n",
       "    </tr>\n",
       "    <tr>\n",
       "      <th>4</th>\n",
       "      <td>2020-08-23T09:45:44.000</td>\n",
       "      <td>47336184</td>\n",
       "      <td>ELEVATOR</td>\n",
       "      <td>10039.0</td>\n",
       "      <td>2890 FREDERICK DOUGLASS BOULEVARD</td>\n",
       "      <td>FREDERICK DOUGLASS BOULEVARD</td>\n",
       "      <td>ADDRESS</td>\n",
       "      <td>NEW YORK</td>\n",
       "      <td>The following complaint conditions are still o...</td>\n",
       "      <td>MANHATTAN</td>\n",
       "      <td>40.828110</td>\n",
       "      <td>-73.938052</td>\n",
       "      <td>NaN</td>\n",
       "      <td>RESIDENTIAL BUILDING</td>\n",
       "      <td>Open</td>\n",
       "    </tr>\n",
       "  </tbody>\n",
       "</table>\n",
       "</div>"
      ],
      "text/plain": [
       "              created_date  unique_key        complaint_type  incident_zip  \\\n",
       "0  2020-08-23T09:51:03.000    47338119        HEAT/HOT WATER       11234.0   \n",
       "1  2020-08-23T14:52:28.000    47339485              PLUMBING       11694.0   \n",
       "2  2020-08-23T07:21:11.000    47338136  UNSANITARY CONDITION       10011.0   \n",
       "3  2020-08-23T01:40:51.000    47343253  UNSANITARY CONDITION       11355.0   \n",
       "4  2020-08-23T09:45:44.000    47336184              ELEVATOR       10039.0   \n",
       "\n",
       "                    incident_address                   street_name  \\\n",
       "0               6614 VETERANS AVENUE               VETERANS AVENUE   \n",
       "1              193 BEACH  112 STREET             BEACH  112 STREET   \n",
       "2               103 WEST   14 STREET              WEST   14 STREET   \n",
       "3                137-27 HOLLY AVENUE                  HOLLY AVENUE   \n",
       "4  2890 FREDERICK DOUGLASS BOULEVARD  FREDERICK DOUGLASS BOULEVARD   \n",
       "\n",
       "  address_type           city  \\\n",
       "0      ADDRESS       BROOKLYN   \n",
       "1      ADDRESS  Rockaway Park   \n",
       "2      ADDRESS       NEW YORK   \n",
       "3      ADDRESS       Flushing   \n",
       "4      ADDRESS       NEW YORK   \n",
       "\n",
       "                              resolution_description    borough   latitude  \\\n",
       "0  The following complaint conditions are still o...   BROOKLYN  40.619789   \n",
       "1  The following complaint conditions are still o...     QUEENS  40.580445   \n",
       "2  The following complaint conditions are still o...  MANHATTAN  40.737564   \n",
       "3  The following complaint conditions are still o...     QUEENS  40.749927   \n",
       "4  The following complaint conditions are still o...  MANHATTAN  40.828110   \n",
       "\n",
       "   longitude closed_date         location_type status  \n",
       "0 -73.913164         NaN  RESIDENTIAL BUILDING   Open  \n",
       "1 -73.833540         NaN  RESIDENTIAL BUILDING   Open  \n",
       "2 -73.997301         NaN  RESIDENTIAL BUILDING   Open  \n",
       "3 -73.820885         NaN  RESIDENTIAL BUILDING   Open  \n",
       "4 -73.938052         NaN  RESIDENTIAL BUILDING   Open  "
      ]
     },
     "execution_count": 2,
     "metadata": {},
     "output_type": "execute_result"
    }
   ],
   "source": [
    "import pandas as pd\n",
    "\n",
    "#lacal path of data from my computer\n",
    "body1 = r\"C:\\Users\\PRADYUM\\Downloads\\fhrw-4uyv.csv\"\n",
    "\n",
    "df = pd.read_csv(body1)\n",
    "df.head()"
   ]
  },
  {
   "cell_type": "code",
   "execution_count": 41,
   "metadata": {},
   "outputs": [
    {
     "name": "stderr",
     "output_type": "stream",
     "text": [
      "C:\\Users\\PRADYUM\\Anaconda3\\lib\\site-packages\\IPython\\core\\interactiveshell.py:3049: DtypeWarning: Columns (19,20,22,23,64,65,80) have mixed types. Specify dtype option on import or set low_memory=False.\n",
      "  interactivity=interactivity, compiler=compiler, result=result)\n"
     ]
    }
   ],
   "source": [
    "dff = pd.read_csv(r\"C:\\Users\\PRADYUM\\Desktop\\PLUTO_for_WEB\\BX_18v122.csv\")"
   ]
  },
  {
   "cell_type": "code",
   "execution_count": 42,
   "metadata": {},
   "outputs": [
    {
     "data": {
      "text/html": [
       "<div>\n",
       "<style scoped>\n",
       "    .dataframe tbody tr th:only-of-type {\n",
       "        vertical-align: middle;\n",
       "    }\n",
       "\n",
       "    .dataframe tbody tr th {\n",
       "        vertical-align: top;\n",
       "    }\n",
       "\n",
       "    .dataframe thead th {\n",
       "        text-align: right;\n",
       "    }\n",
       "</style>\n",
       "<table border=\"1\" class=\"dataframe\">\n",
       "  <thead>\n",
       "    <tr style=\"text-align: right;\">\n",
       "      <th></th>\n",
       "      <th>Borough</th>\n",
       "      <th>Block</th>\n",
       "      <th>Lot</th>\n",
       "      <th>CD</th>\n",
       "      <th>CT2010</th>\n",
       "      <th>CB2010</th>\n",
       "      <th>SchoolDist</th>\n",
       "      <th>Council</th>\n",
       "      <th>ZipCode</th>\n",
       "      <th>FireComp</th>\n",
       "      <th>...</th>\n",
       "      <th>ZMCode</th>\n",
       "      <th>Sanborn</th>\n",
       "      <th>TaxMap</th>\n",
       "      <th>EDesigNum</th>\n",
       "      <th>APPBBL</th>\n",
       "      <th>APPDate</th>\n",
       "      <th>PLUTOMapID</th>\n",
       "      <th>FIRM07_FLAG</th>\n",
       "      <th>PFIRM15_FLAG</th>\n",
       "      <th>Version</th>\n",
       "    </tr>\n",
       "  </thead>\n",
       "  <tbody>\n",
       "    <tr>\n",
       "      <th>0</th>\n",
       "      <td>BX</td>\n",
       "      <td>2260</td>\n",
       "      <td>1</td>\n",
       "      <td>201</td>\n",
       "      <td>19.0</td>\n",
       "      <td>1022.0</td>\n",
       "      <td>7.0</td>\n",
       "      <td>8.0</td>\n",
       "      <td>10454.0</td>\n",
       "      <td>L029</td>\n",
       "      <td>...</td>\n",
       "      <td>NaN</td>\n",
       "      <td>209S016</td>\n",
       "      <td>20901.0</td>\n",
       "      <td>E-143</td>\n",
       "      <td>0.0</td>\n",
       "      <td>NaN</td>\n",
       "      <td>1</td>\n",
       "      <td>NaN</td>\n",
       "      <td>NaN</td>\n",
       "      <td>18V1</td>\n",
       "    </tr>\n",
       "    <tr>\n",
       "      <th>1</th>\n",
       "      <td>BX</td>\n",
       "      <td>2260</td>\n",
       "      <td>4</td>\n",
       "      <td>201</td>\n",
       "      <td>19.0</td>\n",
       "      <td>1022.0</td>\n",
       "      <td>7.0</td>\n",
       "      <td>8.0</td>\n",
       "      <td>10454.0</td>\n",
       "      <td>L029</td>\n",
       "      <td>...</td>\n",
       "      <td>NaN</td>\n",
       "      <td>209S016</td>\n",
       "      <td>20901.0</td>\n",
       "      <td>E-143</td>\n",
       "      <td>0.0</td>\n",
       "      <td>NaN</td>\n",
       "      <td>1</td>\n",
       "      <td>NaN</td>\n",
       "      <td>NaN</td>\n",
       "      <td>18V1</td>\n",
       "    </tr>\n",
       "    <tr>\n",
       "      <th>2</th>\n",
       "      <td>BX</td>\n",
       "      <td>2260</td>\n",
       "      <td>10</td>\n",
       "      <td>201</td>\n",
       "      <td>19.0</td>\n",
       "      <td>1022.0</td>\n",
       "      <td>7.0</td>\n",
       "      <td>8.0</td>\n",
       "      <td>10454.0</td>\n",
       "      <td>L029</td>\n",
       "      <td>...</td>\n",
       "      <td>NaN</td>\n",
       "      <td>209S016</td>\n",
       "      <td>20901.0</td>\n",
       "      <td>E-143</td>\n",
       "      <td>0.0</td>\n",
       "      <td>NaN</td>\n",
       "      <td>1</td>\n",
       "      <td>NaN</td>\n",
       "      <td>NaN</td>\n",
       "      <td>18V1</td>\n",
       "    </tr>\n",
       "    <tr>\n",
       "      <th>3</th>\n",
       "      <td>BX</td>\n",
       "      <td>2260</td>\n",
       "      <td>17</td>\n",
       "      <td>201</td>\n",
       "      <td>19.0</td>\n",
       "      <td>1022.0</td>\n",
       "      <td>7.0</td>\n",
       "      <td>8.0</td>\n",
       "      <td>10454.0</td>\n",
       "      <td>L029</td>\n",
       "      <td>...</td>\n",
       "      <td>NaN</td>\n",
       "      <td>209S016</td>\n",
       "      <td>20901.0</td>\n",
       "      <td>E-143</td>\n",
       "      <td>0.0</td>\n",
       "      <td>NaN</td>\n",
       "      <td>1</td>\n",
       "      <td>NaN</td>\n",
       "      <td>NaN</td>\n",
       "      <td>18V1</td>\n",
       "    </tr>\n",
       "    <tr>\n",
       "      <th>4</th>\n",
       "      <td>BX</td>\n",
       "      <td>2260</td>\n",
       "      <td>18</td>\n",
       "      <td>201</td>\n",
       "      <td>19.0</td>\n",
       "      <td>1022.0</td>\n",
       "      <td>7.0</td>\n",
       "      <td>8.0</td>\n",
       "      <td>10454.0</td>\n",
       "      <td>L029</td>\n",
       "      <td>...</td>\n",
       "      <td>NaN</td>\n",
       "      <td>209S016</td>\n",
       "      <td>20901.0</td>\n",
       "      <td>E-143</td>\n",
       "      <td>0.0</td>\n",
       "      <td>NaN</td>\n",
       "      <td>1</td>\n",
       "      <td>NaN</td>\n",
       "      <td>NaN</td>\n",
       "      <td>18V1</td>\n",
       "    </tr>\n",
       "  </tbody>\n",
       "</table>\n",
       "<p>5 rows × 87 columns</p>\n",
       "</div>"
      ],
      "text/plain": [
       "  Borough  Block  Lot   CD  CT2010  CB2010  SchoolDist  Council  ZipCode  \\\n",
       "0      BX   2260    1  201    19.0  1022.0         7.0      8.0  10454.0   \n",
       "1      BX   2260    4  201    19.0  1022.0         7.0      8.0  10454.0   \n",
       "2      BX   2260   10  201    19.0  1022.0         7.0      8.0  10454.0   \n",
       "3      BX   2260   17  201    19.0  1022.0         7.0      8.0  10454.0   \n",
       "4      BX   2260   18  201    19.0  1022.0         7.0      8.0  10454.0   \n",
       "\n",
       "  FireComp  ...  ZMCode  Sanborn   TaxMap  EDesigNum  APPBBL APPDate  \\\n",
       "0     L029  ...     NaN  209S016  20901.0      E-143     0.0     NaN   \n",
       "1     L029  ...     NaN  209S016  20901.0      E-143     0.0     NaN   \n",
       "2     L029  ...     NaN  209S016  20901.0      E-143     0.0     NaN   \n",
       "3     L029  ...     NaN  209S016  20901.0      E-143     0.0     NaN   \n",
       "4     L029  ...     NaN  209S016  20901.0      E-143     0.0     NaN   \n",
       "\n",
       "  PLUTOMapID FIRM07_FLAG PFIRM15_FLAG Version  \n",
       "0          1         NaN          NaN    18V1  \n",
       "1          1         NaN          NaN    18V1  \n",
       "2          1         NaN          NaN    18V1  \n",
       "3          1         NaN          NaN    18V1  \n",
       "4          1         NaN          NaN    18V1  \n",
       "\n",
       "[5 rows x 87 columns]"
      ]
     },
     "execution_count": 42,
     "metadata": {},
     "output_type": "execute_result"
    }
   ],
   "source": [
    "dff.head()"
   ]
  },
  {
   "cell_type": "code",
   "execution_count": 53,
   "metadata": {},
   "outputs": [],
   "source": [
    "dff.dropna(subset = ['ZipCode'], inplace=True)"
   ]
  },
  {
   "cell_type": "code",
   "execution_count": 56,
   "metadata": {},
   "outputs": [
    {
     "data": {
      "text/plain": [
       "array([10454., 10455., 10451., 10456., 10452., 10453., 10465., 10474.,\n",
       "       11370., 10459., 10472., 10457., 10460., 10458., 10468., 10463.,\n",
       "       10467., 10470., 10466., 10473., 10462., 10461., 10469., 10475.,\n",
       "       10464., 10471.])"
      ]
     },
     "execution_count": 56,
     "metadata": {},
     "output_type": "execute_result"
    }
   ],
   "source": [
    "dff.ZipCode.unique()"
   ]
  },
  {
   "cell_type": "markdown",
   "metadata": {},
   "source": [
    "### Therefor 26 unique zipcodes in Bronx PLUTO dataset"
   ]
  },
  {
   "cell_type": "code",
   "execution_count": 60,
   "metadata": {},
   "outputs": [
    {
     "data": {
      "text/plain": [
       "array([11101., 11109., 11104., 11377., 11106., 11102., 11103., 11105.,\n",
       "       11370., 11369., 11372., 11373., 11385., 11368., 11421., 11355.,\n",
       "       11374., 11375., 11367., 11415., 11378., 11379., 11418., 11432.,\n",
       "       11356., 11420., 11357., 11354., 11697., 11693., 11358., 11361.,\n",
       "       11365., 11364., 11360., 11359., 11435., 11366., 11423., 11363.,\n",
       "       11362., 11427., 11426., 11428., 11004., 11005., 11040., 11001.,\n",
       "       11416., 11417., 11419., 11433., 11413., 11434., 11412., 11429.,\n",
       "       11411., 11414., 11430., 11436., 11422., 11691., 11692., 11694.,\n",
       "       11695.])"
      ]
     },
     "execution_count": 60,
     "metadata": {},
     "output_type": "execute_result"
    }
   ],
   "source": [
    "dff2 = pd.read_csv(r\"C:\\Users\\PRADYUM\\Desktop\\PLUTO_for_WEB\\QN_18v1.csv\")\n",
    "dff2.dropna(subset = ['ZipCode'], inplace=True)"
   ]
  },
  {
   "cell_type": "code",
   "execution_count": 61,
   "metadata": {},
   "outputs": [
    {
     "data": {
      "text/plain": [
       "65"
      ]
     },
     "execution_count": 61,
     "metadata": {},
     "output_type": "execute_result"
    }
   ],
   "source": [
    "len(dff2.ZipCode.unique())"
   ]
  },
  {
   "cell_type": "markdown",
   "metadata": {},
   "source": [
    "### Therefor 65 unique zipcodes in QUEENS PLUTO dataset"
   ]
  },
  {
   "cell_type": "markdown",
   "metadata": {},
   "source": [
    "### Coming back to main dataset df"
   ]
  },
  {
   "cell_type": "code",
   "execution_count": 3,
   "metadata": {},
   "outputs": [
    {
     "name": "stdout",
     "output_type": "stream",
     "text": [
      "<class 'pandas.core.frame.DataFrame'>\n",
      "RangeIndex: 4220047 entries, 0 to 4220046\n",
      "Data columns (total 15 columns):\n",
      "created_date              object\n",
      "unique_key                int64\n",
      "complaint_type            object\n",
      "incident_zip              float64\n",
      "incident_address          object\n",
      "street_name               object\n",
      "address_type              object\n",
      "city                      object\n",
      "resolution_description    object\n",
      "borough                   object\n",
      "latitude                  float64\n",
      "longitude                 float64\n",
      "closed_date               object\n",
      "location_type             object\n",
      "status                    object\n",
      "dtypes: float64(3), int64(1), object(11)\n",
      "memory usage: 482.9+ MB\n"
     ]
    }
   ],
   "source": [
    "df.info()"
   ]
  },
  {
   "cell_type": "code",
   "execution_count": 4,
   "metadata": {},
   "outputs": [
    {
     "data": {
      "text/plain": [
       "array(['HEAT/HOT WATER', 'PLUMBING', 'UNSANITARY CONDITION', 'ELEVATOR',\n",
       "       'WATER LEAK', 'PAINT/PLASTER', 'GENERAL', 'FLOORING/STAIRS',\n",
       "       'SAFETY', 'APPLIANCE', 'DOOR/WINDOW', 'ELECTRIC',\n",
       "       'OUTSIDE BUILDING', 'Appliance', 'Unsanitary Condition', 'Safety',\n",
       "       'Electric', 'HPD Literature Request', 'HEATING',\n",
       "       'GENERAL CONSTRUCTION', 'PAINT - PLASTER', 'NONCONST',\n",
       "       'CONSTRUCTION', 'General', 'AGENCY', 'VACANT APARTMENT',\n",
       "       'STRUCTURAL', 'Outside Building', 'Plumbing', 'Mold'], dtype=object)"
      ]
     },
     "execution_count": 4,
     "metadata": {},
     "output_type": "execute_result"
    }
   ],
   "source": [
    "df[\"complaint_type\"].unique()"
   ]
  },
  {
   "cell_type": "code",
   "execution_count": 40,
   "metadata": {},
   "outputs": [
    {
     "data": {
      "text/plain": [
       "52821"
      ]
     },
     "execution_count": 40,
     "metadata": {},
     "output_type": "execute_result"
    }
   ],
   "source": [
    "df.incident_address.isnull().sum()"
   ]
  },
  {
   "cell_type": "code",
   "execution_count": 5,
   "metadata": {},
   "outputs": [
    {
     "data": {
      "text/plain": [
       "0"
      ]
     },
     "execution_count": 5,
     "metadata": {},
     "output_type": "execute_result"
    }
   ],
   "source": [
    "df[\"complaint_type\"].isnull().sum()"
   ]
  },
  {
   "cell_type": "code",
   "execution_count": 6,
   "metadata": {},
   "outputs": [
    {
     "data": {
      "text/plain": [
       "HEAT/HOT WATER            1306687\n",
       "UNSANITARY CONDITION       474493\n",
       "PLUMBING                   425976\n",
       "PAINT/PLASTER              353335\n",
       "DOOR/WINDOW                213033\n",
       "HEATING                    205564\n",
       "ELECTRIC                   202684\n",
       "WATER LEAK                 200478\n",
       "GENERAL                    153518\n",
       "FLOORING/STAIRS            141572\n",
       "GENERAL CONSTRUCTION       139580\n",
       "PAINT - PLASTER            101832\n",
       "APPLIANCE                   91452\n",
       "NONCONST                    80239\n",
       "SAFETY                      53618\n",
       "HPD Literature Request      52820\n",
       "OUTSIDE BUILDING             7299\n",
       "ELEVATOR                     7259\n",
       "Unsanitary Condition         5499\n",
       "CONSTRUCTION                 1481\n",
       "General                      1163\n",
       "Safety                        424\n",
       "Plumbing                       11\n",
       "AGENCY                          9\n",
       "VACANT APARTMENT                8\n",
       "Outside Building                6\n",
       "Appliance                       4\n",
       "Mold                            1\n",
       "Electric                        1\n",
       "STRUCTURAL                      1\n",
       "Name: complaint_type, dtype: int64"
      ]
     },
     "execution_count": 6,
     "metadata": {},
     "output_type": "execute_result"
    }
   ],
   "source": [
    "df[\"complaint_type\"].value_counts()"
   ]
  },
  {
   "cell_type": "markdown",
   "metadata": {},
   "source": [
    "It is clear that the Heat/Hot Water problem is the one that NYC should focus on first! However, it's tricky. You may notice that there is big similarity between two groups. HEAT/HOT WATER and HEATING. Before 2014, this dataset is using HEATING label but after 2014, the label changed as \"HEATING/HOT WATER\". So, we need to change \"HEATING\" labels as \"HEATING/HOT WATER\" and analyze them together."
   ]
  },
  {
   "cell_type": "code",
   "execution_count": 25,
   "metadata": {},
   "outputs": [],
   "source": [
    "import numpy as np\n",
    "import datetime as dt\n",
    "df['complaint_type'] = np.where(df['complaint_type']=='HEATING','HEAT/HOT WATER',df['complaint_type'])"
   ]
  },
  {
   "cell_type": "code",
   "execution_count": 8,
   "metadata": {},
   "outputs": [
    {
     "data": {
      "text/plain": [
       "HEAT/HOT WATER          1512251\n",
       "UNSANITARY CONDITION     474493\n",
       "PLUMBING                 425976\n",
       "PAINT/PLASTER            353335\n",
       "DOOR/WINDOW              213033\n",
       "Name: complaint_type, dtype: int64"
      ]
     },
     "execution_count": 8,
     "metadata": {},
     "output_type": "execute_result"
    }
   ],
   "source": [
    "df[\"complaint_type\"].value_counts().head()"
   ]
  },
  {
   "cell_type": "code",
   "execution_count": 9,
   "metadata": {},
   "outputs": [],
   "source": [
    "import matplotlib.pyplot as plt\n",
    "import seaborn as sns"
   ]
  },
  {
   "cell_type": "code",
   "execution_count": 17,
   "metadata": {},
   "outputs": [
    {
     "data": {
      "image/png": "[encoded data removed]",
      "text/plain": [
       "<Figure size 720x432 with 1 Axes>"
      ]
     },
     "metadata": {
      "needs_background": "light"
     },
     "output_type": "display_data"
    }
   ],
   "source": [
    "df[\"complaint_type\"].value_counts().plot(kind='bar', figsize=(10, 6))\n",
    "#\n",
    "plt.xlabel('Complaint_Type') # add to x-label to the plot\n",
    "plt.ylabel('Number occurance') # add y-label to the plot\n",
    "plt.title('Complaint Type Graph') # add title to the plot\n",
    "#\n",
    "plt.show()"
   ]
  },
  {
   "cell_type": "code",
   "execution_count": 19,
   "metadata": {},
   "outputs": [
    {
     "data": {
      "text/plain": [
       "4220042    2010-11-28T00:00:00.000\n",
       "4220043    2010-11-28T00:00:00.000\n",
       "4220044    2010-11-28T00:00:00.000\n",
       "4220045    2010-11-28T00:00:00.000\n",
       "4220046    2010-11-28T00:00:00.000\n",
       "Name: created_date, dtype: object"
      ]
     },
     "execution_count": 19,
     "metadata": {},
     "output_type": "execute_result"
    }
   ],
   "source": [
    "df[\"created_date\"].tail()"
   ]
  },
  {
   "cell_type": "markdown",
   "metadata": {},
   "source": [
    "it is not a datetime type column. Basically it contains dates as strings."
   ]
  },
  {
   "cell_type": "code",
   "execution_count": 20,
   "metadata": {},
   "outputs": [],
   "source": [
    "complaint_df = df[df.complaint_type == \"HEAT/HOT WATER\"]"
   ]
  },
  {
   "cell_type": "code",
   "execution_count": 21,
   "metadata": {},
   "outputs": [
    {
     "name": "stdout",
     "output_type": "stream",
     "text": [
      "<class 'pandas.core.frame.DataFrame'>\n",
      "Int64Index: 1512251 entries, 0 to 4220046\n",
      "Data columns (total 15 columns):\n",
      "created_date              1512251 non-null object\n",
      "unique_key                1512251 non-null int64\n",
      "complaint_type            1512251 non-null object\n",
      "incident_zip              1493218 non-null float64\n",
      "incident_address          1512250 non-null object\n",
      "street_name               1512250 non-null object\n",
      "address_type              1494255 non-null object\n",
      "city                      1493363 non-null object\n",
      "resolution_description    1512086 non-null object\n",
      "borough                   1512251 non-null object\n",
      "latitude                  1248318 non-null float64\n",
      "longitude                 1248318 non-null float64\n",
      "closed_date               1507029 non-null object\n",
      "location_type             1512251 non-null object\n",
      "status                    1512251 non-null object\n",
      "dtypes: float64(3), int64(1), object(11)\n",
      "memory usage: 184.6+ MB\n"
     ]
    }
   ],
   "source": [
    "complaint_df.info()"
   ]
  },
  {
   "cell_type": "code",
   "execution_count": 22,
   "metadata": {},
   "outputs": [
    {
     "data": {
      "text/html": [
       "<div>\n",
       "<style scoped>\n",
       "    .dataframe tbody tr th:only-of-type {\n",
       "        vertical-align: middle;\n",
       "    }\n",
       "\n",
       "    .dataframe tbody tr th {\n",
       "        vertical-align: top;\n",
       "    }\n",
       "\n",
       "    .dataframe thead th {\n",
       "        text-align: right;\n",
       "    }\n",
       "</style>\n",
       "<table border=\"1\" class=\"dataframe\">\n",
       "  <thead>\n",
       "    <tr style=\"text-align: right;\">\n",
       "      <th></th>\n",
       "      <th>complaint_type</th>\n",
       "      <th>created_date</th>\n",
       "    </tr>\n",
       "  </thead>\n",
       "  <tbody>\n",
       "    <tr>\n",
       "      <th>0</th>\n",
       "      <td>HEAT/HOT WATER</td>\n",
       "      <td>2020-08-23T09:51:03.000</td>\n",
       "    </tr>\n",
       "    <tr>\n",
       "      <th>8</th>\n",
       "      <td>HEAT/HOT WATER</td>\n",
       "      <td>2020-08-23T10:09:29.000</td>\n",
       "    </tr>\n",
       "    <tr>\n",
       "      <th>11</th>\n",
       "      <td>HEAT/HOT WATER</td>\n",
       "      <td>2020-08-23T19:42:17.000</td>\n",
       "    </tr>\n",
       "    <tr>\n",
       "      <th>18</th>\n",
       "      <td>HEAT/HOT WATER</td>\n",
       "      <td>2020-08-23T07:30:14.000</td>\n",
       "    </tr>\n",
       "    <tr>\n",
       "      <th>20</th>\n",
       "      <td>HEAT/HOT WATER</td>\n",
       "      <td>2020-08-23T11:53:49.000</td>\n",
       "    </tr>\n",
       "  </tbody>\n",
       "</table>\n",
       "</div>"
      ],
      "text/plain": [
       "    complaint_type             created_date\n",
       "0   HEAT/HOT WATER  2020-08-23T09:51:03.000\n",
       "8   HEAT/HOT WATER  2020-08-23T10:09:29.000\n",
       "11  HEAT/HOT WATER  2020-08-23T19:42:17.000\n",
       "18  HEAT/HOT WATER  2020-08-23T07:30:14.000\n",
       "20  HEAT/HOT WATER  2020-08-23T11:53:49.000"
      ]
     },
     "execution_count": 22,
     "metadata": {},
     "output_type": "execute_result"
    }
   ],
   "source": [
    "heat_year_sum_df = complaint_df[[\"complaint_type\", \"created_date\"]]\n",
    "heat_year_sum_df.head()"
   ]
  },
  {
   "cell_type": "code",
   "execution_count": 23,
   "metadata": {},
   "outputs": [
    {
     "data": {
      "text/plain": [
       "0     2020-08-23T09:51:03.000\n",
       "8     2020-08-23T10:09:29.000\n",
       "11    2020-08-23T19:42:17.000\n",
       "18    2020-08-23T07:30:14.000\n",
       "20    2020-08-23T11:53:49.000\n",
       "Name: created_date, dtype: object"
      ]
     },
     "execution_count": 23,
     "metadata": {},
     "output_type": "execute_result"
    }
   ],
   "source": [
    "heat_year_sum_df[\"created_date\"].head()"
   ]
  },
  {
   "cell_type": "code",
   "execution_count": 33,
   "metadata": {},
   "outputs": [
    {
     "name": "stderr",
     "output_type": "stream",
     "text": [
      "C:\\Users\\PRADYUM\\Anaconda3\\lib\\site-packages\\ipykernel_launcher.py:1: SettingWithCopyWarning: \n",
      "A value is trying to be set on a copy of a slice from a DataFrame.\n",
      "Try using .loc[row_indexer,col_indexer] = value instead\n",
      "\n",
      "See the caveats in the documentation: http://pandas.pydata.org/pandas-docs/stable/indexing.html#indexing-view-versus-copy\n",
      "  \"\"\"Entry point for launching an IPython kernel.\n"
     ]
    }
   ],
   "source": [
    "heat_year_sum_df[\"created_date\"] = pd.to_datetime(heat_year_sum_df.created_date)"
   ]
  },
  {
   "cell_type": "code",
   "execution_count": 34,
   "metadata": {},
   "outputs": [],
   "source": [
    "#now we group the incidents by every year\n",
    "grp = heat_year_sum_df.groupby(heat_year_sum_df.created_date.dt.year)"
   ]
  },
  {
   "cell_type": "code",
   "execution_count": 35,
   "metadata": {},
   "outputs": [
    {
     "data": {
      "text/html": [
       "<div>\n",
       "<style scoped>\n",
       "    .dataframe tbody tr th:only-of-type {\n",
       "        vertical-align: middle;\n",
       "    }\n",
       "\n",
       "    .dataframe tbody tr th {\n",
       "        vertical-align: top;\n",
       "    }\n",
       "\n",
       "    .dataframe thead th {\n",
       "        text-align: right;\n",
       "    }\n",
       "</style>\n",
       "<table border=\"1\" class=\"dataframe\">\n",
       "  <thead>\n",
       "    <tr style=\"text-align: right;\">\n",
       "      <th></th>\n",
       "      <th>complaint_type</th>\n",
       "      <th>created_date</th>\n",
       "    </tr>\n",
       "    <tr>\n",
       "      <th>created_date</th>\n",
       "      <th></th>\n",
       "      <th></th>\n",
       "    </tr>\n",
       "  </thead>\n",
       "  <tbody>\n",
       "    <tr>\n",
       "      <th>2010</th>\n",
       "      <td>161611</td>\n",
       "      <td>161611</td>\n",
       "    </tr>\n",
       "    <tr>\n",
       "      <th>2011</th>\n",
       "      <td>6085</td>\n",
       "      <td>6085</td>\n",
       "    </tr>\n",
       "    <tr>\n",
       "      <th>2012</th>\n",
       "      <td>11971</td>\n",
       "      <td>11971</td>\n",
       "    </tr>\n",
       "    <tr>\n",
       "      <th>2013</th>\n",
       "      <td>21720</td>\n",
       "      <td>21720</td>\n",
       "    </tr>\n",
       "    <tr>\n",
       "      <th>2014</th>\n",
       "      <td>135043</td>\n",
       "      <td>135043</td>\n",
       "    </tr>\n",
       "    <tr>\n",
       "      <th>2015</th>\n",
       "      <td>223011</td>\n",
       "      <td>223011</td>\n",
       "    </tr>\n",
       "    <tr>\n",
       "      <th>2016</th>\n",
       "      <td>225267</td>\n",
       "      <td>225267</td>\n",
       "    </tr>\n",
       "    <tr>\n",
       "      <th>2017</th>\n",
       "      <td>213244</td>\n",
       "      <td>213244</td>\n",
       "    </tr>\n",
       "    <tr>\n",
       "      <th>2018</th>\n",
       "      <td>221035</td>\n",
       "      <td>221035</td>\n",
       "    </tr>\n",
       "    <tr>\n",
       "      <th>2019</th>\n",
       "      <td>208128</td>\n",
       "      <td>208128</td>\n",
       "    </tr>\n",
       "    <tr>\n",
       "      <th>2020</th>\n",
       "      <td>85136</td>\n",
       "      <td>85136</td>\n",
       "    </tr>\n",
       "  </tbody>\n",
       "</table>\n",
       "</div>"
      ],
      "text/plain": [
       "              complaint_type  created_date\n",
       "created_date                              \n",
       "2010                  161611        161611\n",
       "2011                    6085          6085\n",
       "2012                   11971         11971\n",
       "2013                   21720         21720\n",
       "2014                  135043        135043\n",
       "2015                  223011        223011\n",
       "2016                  225267        225267\n",
       "2017                  213244        213244\n",
       "2018                  221035        221035\n",
       "2019                  208128        208128\n",
       "2020                   85136         85136"
      ]
     },
     "execution_count": 35,
     "metadata": {},
     "output_type": "execute_result"
    }
   ],
   "source": [
    "grp.count()"
   ]
  },
  {
   "cell_type": "code",
   "execution_count": 36,
   "metadata": {},
   "outputs": [
    {
     "data": {
      "text/html": [
       "<div>\n",
       "<style scoped>\n",
       "    .dataframe tbody tr th:only-of-type {\n",
       "        vertical-align: middle;\n",
       "    }\n",
       "\n",
       "    .dataframe tbody tr th {\n",
       "        vertical-align: top;\n",
       "    }\n",
       "\n",
       "    .dataframe thead th {\n",
       "        text-align: right;\n",
       "    }\n",
       "</style>\n",
       "<table border=\"1\" class=\"dataframe\">\n",
       "  <thead>\n",
       "    <tr style=\"text-align: right;\">\n",
       "      <th></th>\n",
       "      <th>complaint_type</th>\n",
       "      <th>created_date</th>\n",
       "    </tr>\n",
       "    <tr>\n",
       "      <th>created_date</th>\n",
       "      <th></th>\n",
       "      <th></th>\n",
       "    </tr>\n",
       "  </thead>\n",
       "  <tbody>\n",
       "    <tr>\n",
       "      <th>2010</th>\n",
       "      <td>161611</td>\n",
       "      <td>161611</td>\n",
       "    </tr>\n",
       "    <tr>\n",
       "      <th>2011</th>\n",
       "      <td>6085</td>\n",
       "      <td>6085</td>\n",
       "    </tr>\n",
       "    <tr>\n",
       "      <th>2012</th>\n",
       "      <td>11971</td>\n",
       "      <td>11971</td>\n",
       "    </tr>\n",
       "    <tr>\n",
       "      <th>2013</th>\n",
       "      <td>21720</td>\n",
       "      <td>21720</td>\n",
       "    </tr>\n",
       "    <tr>\n",
       "      <th>2014</th>\n",
       "      <td>135043</td>\n",
       "      <td>135043</td>\n",
       "    </tr>\n",
       "    <tr>\n",
       "      <th>2015</th>\n",
       "      <td>223011</td>\n",
       "      <td>223011</td>\n",
       "    </tr>\n",
       "    <tr>\n",
       "      <th>2016</th>\n",
       "      <td>225267</td>\n",
       "      <td>225267</td>\n",
       "    </tr>\n",
       "    <tr>\n",
       "      <th>2017</th>\n",
       "      <td>213244</td>\n",
       "      <td>213244</td>\n",
       "    </tr>\n",
       "    <tr>\n",
       "      <th>2018</th>\n",
       "      <td>221035</td>\n",
       "      <td>221035</td>\n",
       "    </tr>\n",
       "    <tr>\n",
       "      <th>2019</th>\n",
       "      <td>208128</td>\n",
       "      <td>208128</td>\n",
       "    </tr>\n",
       "    <tr>\n",
       "      <th>2020</th>\n",
       "      <td>85136</td>\n",
       "      <td>85136</td>\n",
       "    </tr>\n",
       "  </tbody>\n",
       "</table>\n",
       "</div>"
      ],
      "text/plain": [
       "              complaint_type  created_date\n",
       "created_date                              \n",
       "2010                  161611        161611\n",
       "2011                    6085          6085\n",
       "2012                   11971         11971\n",
       "2013                   21720         21720\n",
       "2014                  135043        135043\n",
       "2015                  223011        223011\n",
       "2016                  225267        225267\n",
       "2017                  213244        213244\n",
       "2018                  221035        221035\n",
       "2019                  208128        208128\n",
       "2020                   85136         85136"
      ]
     },
     "execution_count": 36,
     "metadata": {},
     "output_type": "execute_result"
    }
   ],
   "source": [
    "pd.DataFrame = grp.count()\n",
    "grp_df = pd.DataFrame\n",
    "grp_df"
   ]
  },
  {
   "cell_type": "code",
   "execution_count": 38,
   "metadata": {},
   "outputs": [
    {
     "data": {
      "image/png": "[encoded data removed]",
      "text/plain": [
       "<Figure size 432x288 with 1 Axes>"
      ]
     },
     "metadata": {
      "needs_background": "light"
     },
     "output_type": "display_data"
    }
   ],
   "source": [
    "plt.bar(grp_df.index, grp_df[\"complaint_type\"])\n",
    "plt.xticks(grp_df.index.values)\n",
    "plt.ylabel('Number occurrence')\n",
    "plt.title('Yearly Occurrence')\n",
    " \n",
    "plt.show()"
   ]
  },
  {
   "cell_type": "markdown",
   "metadata": {},
   "source": [
    "### CONCLUDING REMARKS: Department of Housing Preservation and Development of New York City should address HEAT/HOT WATER problem first. "
   ]
  },
  {
   "cell_type": "code",
   "execution_count": null,
   "metadata": {},
   "outputs": [],
   "source": []
  },
  {
   "cell_type": "code",
   "execution_count": null,
   "metadata": {},
   "outputs": [],
   "source": []
  }
 ],
 "metadata": {
  "kernelspec": {
   "display_name": "Python 3",
   "language": "python",
   "name": "python3"
  },
  "language_info": {
   "codemirror_mode": {
    "name": "ipython",
    "version": 3
   },
   "file_extension": ".py",
   "mimetype": "text/x-python",
   "name": "python",
   "nbconvert_exporter": "python",
   "pygments_lexer": "ipython3",
   "version": "3.7.3"
  }
 },
 "nbformat": 4,
 "nbformat_minor": 2
}
